{
 "cells": [
  {
   "cell_type": "markdown",
   "metadata": {},
   "source": [
    "# Adult DP-SGD Analysis\n",
    "The main adult dp-sgd analysis script. This script is used to analyse the dp-sgd results from all the different pruned datasets and create the final plots of the research topic."
   ]
  },
  {
   "cell_type": "code",
   "execution_count": null,
   "metadata": {},
   "outputs": [],
   "source": [
    "import matplotlib.pyplot as plt\n",
    "import seaborn as sns\n",
    "import numpy as np\n",
    "import pandas as pd\n",
    "import tensorflow as tf\n",
    "from tensorflow import feature_column\n",
    "import tensorflow_datasets as tfds\n",
    "from sklearn.metrics import auc\n",
    "import os\n",
    "from os import path\n",
    "import pickle\n",
    "import time\n",
    "import datetime"
   ]
  },
  {
   "cell_type": "markdown",
   "metadata": {},
   "source": [
    "### Averaged experiment results"
   ]
  },
  {
   "cell_type": "code",
   "execution_count": null,
   "metadata": {},
   "outputs": [],
   "source": [
    "# takes in dataframe and returns a new averaged df\n",
    "def get_mean_results(df, prune_type, prune_frac):\n",
    "    new_df = df.loc[(df['prune_type'] == prune_type) & \n",
    "       (df['prune_frac'] == prune_frac)].groupby([\"prune_frac\", \n",
    "                                           \"epoch\",\n",
    "                                           \"batches\",\n",
    "                                           \"noise_multiplier\",\n",
    "                                           \"clipping_norm\"]).mean().reset_index().drop(['run_number'], \n",
    "                                                                                       axis=1)\n",
    "    return new_df"
   ]
  },
  {
   "cell_type": "markdown",
   "metadata": {},
   "source": [
    "### Plotting tools "
   ]
  },
  {
   "cell_type": "code",
   "execution_count": null,
   "metadata": {},
   "outputs": [],
   "source": [
    "# takes in dataframe and returns a new averaged df over experiments\n",
    "def get_mean_results_bs(df, batch_size, prune_type, prune_frac):\n",
    "    new_df = df.loc[(df['batch_size'] == batch_size) & (df['prune_type'] == prune_type) & \n",
    "                    (df['prune_frac'] == prune_frac)].groupby([\"prune_frac\", \n",
    "                                                               \"steps\",\n",
    "                                                               \"epochs\",\n",
    "                                                               \"noise_multiplier\",\n",
    "                                                               \"clipping_norm\"]).mean().reset_index().drop(['run_number'], \n",
    "                                                                                                           axis=1)\n",
    "    return new_df"
   ]
  },
  {
   "cell_type": "code",
   "execution_count": null,
   "metadata": {},
   "outputs": [],
   "source": [
    "# create a comparative plot for different influence types\n",
    "def plot_maker(df, batch_size, prune_list, prune_type, x_axis, y_axis, opt_label, line_width):\n",
    "    prune_type_list = ['influential', 'random']\n",
    "    if prune_type == 'none':\n",
    "        zero_prune = get_mean_results_bs(df, batch_size, prune_type, 0.0)\n",
    "        x, y = get_x_y(zero_prune, x_axis, y_axis)\n",
    "        ax.plot(x, y, label=\"{}\".format(opt_label), linewidth=line_width)\n",
    "    else:\n",
    "        for prune_frac in prune_list:\n",
    "            if prune_type == \"random\" or prune_type == \"influential\":\n",
    "                new_df = get_mean_results_bs(df, batch_size, prune_type, prune_frac)\n",
    "                x, y = get_x_y(new_df, x_axis, y_axis)\n",
    "                ax.plot(x, y, label=\"{} {} {:.0f}%\".format(opt_label, \n",
    "                                                           'Infl' if prune_type=='influential' else 'Random', \n",
    "                                                           prune_frac*100), linewidth=line_width)\n",
    "            if prune_type == \"both\":\n",
    "                for i in range(len(prune_type_list)):\n",
    "                    new_df = get_mean_results_bs(df, batch_size, prune_type_list[i], prune_frac)\n",
    "                    x, y = get_x_y(new_df, x_axis, y_axis)\n",
    "                    ax.plot(x, y, label=\"{} {} {:.0f}%\".format(opt_label, \n",
    "                                                               'Infl' if prune_type_list[i]=='influential' else 'Random',\n",
    "                                                               prune_frac*100), linewidth=line_width)\n",
    "            \n",
    "    "
   ]
  },
  {
   "cell_type": "code",
   "execution_count": null,
   "metadata": {},
   "outputs": [],
   "source": [
    "# create a comparative plot \n",
    "def plot_maker_color(df, batch_size, prune_list, prune_type, x_axis, y_axis, opt_label, color, line_width):\n",
    "    prune_type_list = ['influential', 'random']\n",
    "    if prune_type == 'none':\n",
    "        zero_prune = get_mean_results_bs(df, batch_size, prune_type, 0.0)\n",
    "        x, y = get_x_y(zero_prune, x_axis, y_axis)\n",
    "        ax.plot(x, y, label=\"{}\".format(opt_label), color=color, linewidth=line_width)\n",
    "    else:\n",
    "        for prune_frac in prune_list:\n",
    "            if prune_type == \"random\" or prune_type == \"influential\":\n",
    "                new_df = get_mean_results_bs(df, batch_size, prune_type, prune_frac)\n",
    "                x, y = get_x_y(new_df, x_axis, y_axis)\n",
    "                ax.plot(x, y, label=\"{} {} {:.0f}%\".format(opt_label, \n",
    "                                                           'Infl' if prune_type=='influential' else 'Random', \n",
    "                                                           prune_frac*100), color=color, linewidth=line_width)\n",
    "            if prune_type == \"both\":\n",
    "                for i in range(len(prune_type_list)):\n",
    "                    new_df = get_mean_results_bs(df, batch_size, prune_type_list[i], prune_frac)\n",
    "                    x, y = get_x_y(new_df, x_axis, y_axis)\n",
    "                    ax.plot(x, y, label=\"{} {} {:.0f}%\".format(opt_label, \n",
    "                                                               'Infl' if prune_type_list[i]=='influential' else 'Random',\n",
    "                                                               prune_frac*100), color=color, linewidth=line_width)\n",
    "            \n",
    "    "
   ]
  },
  {
   "cell_type": "code",
   "execution_count": null,
   "metadata": {},
   "outputs": [],
   "source": [
    "# create a plot of all the experiments\n",
    "def plot_maker_experiments(df, batch_size, prune_frac, prune_type, experiments, x_axis, y_axis, color, alpha, line_width, linestyle):\n",
    "    for experiment in range(experiments):\n",
    "        new_df = df.loc[(df['batch_size'] == batch_size) & \n",
    "                        (df['prune_type'] == prune_type) & \n",
    "                        (df['prune_frac'] == prune_frac) & \n",
    "                        (df['run_number'] == experiment)].groupby([\"epochs\"]).mean().reset_index().drop(['run_number'], \n",
    "                                                                                                           axis=1)\n",
    "        x, y = get_x_y(new_df, x_axis, y_axis)\n",
    "        ax.plot(x, y, color=color, alpha=alpha, linewidth=line_width, linestyle=linestyle)\n"
   ]
  },
  {
   "cell_type": "code",
   "execution_count": null,
   "metadata": {},
   "outputs": [],
   "source": [
    "# create a plot of all the experiments\n",
    "def plot_maker_averaged(df, batch_size, prune_frac, prune_type, x_axis, y_axis, alpha, line_width, linestyle, opt_label):\n",
    "    new_df = get_mean_results_bs(df, batch_size, prune_type, prune_frac)\n",
    "    x, y = get_x_y(new_df, x_axis, y_axis)\n",
    "    ax.plot(x, y, alpha=alpha, linewidth=line_width, linestyle=linestyle, label=opt_label)\n"
   ]
  },
  {
   "cell_type": "code",
   "execution_count": null,
   "metadata": {},
   "outputs": [],
   "source": [
    "# get x and y array\n",
    "def get_x_y(df, x_string, y_string):\n",
    "    return df[x_string], df[y_string]*100"
   ]
  },
  {
   "cell_type": "code",
   "execution_count": null,
   "metadata": {},
   "outputs": [],
   "source": [
    "# integrate line plot \n",
    "def return_area_max_epsilon(epsilon, x_array, y_array):\n",
    "    return auc(x_array, y_array)"
   ]
  },
  {
   "cell_type": "markdown",
   "metadata": {},
   "source": [
    "### Optimise batch_size"
   ]
  },
  {
   "cell_type": "code",
   "execution_count": null,
   "metadata": {},
   "outputs": [],
   "source": [
    "# load data\n",
    "df = pd.read_csv('results/dp_sgd_pruning_results_cpave_bs500_double_batch_size_scan_all.csv')\n",
    "#df_1 = pd.read_csv('results/dp_sgd_pruning_results_cpave_bs500_double_batch_size_scan.csv')\n",
    "#df_2 = pd.read_csv('results/dp_sgd_pruning_results_cpave_bs500_double_batch_size_scan_2.csv')\n",
    "#df_3 = pd.read_csv('results/dp_sgd_pruning_results_cpave_bs500_double_batch_size_scan_3.csv')\n",
    "#df = pd.concat([df_1, df_2, df_3])"
   ]
  },
  {
   "cell_type": "code",
   "execution_count": null,
   "metadata": {
    "scrolled": false
   },
   "outputs": [],
   "source": [
    "df.head(5)"
   ]
  },
  {
   "cell_type": "markdown",
   "metadata": {},
   "source": [
    "### plot accuracy vs epsilon with experiments"
   ]
  },
  {
   "cell_type": "code",
   "execution_count": null,
   "metadata": {},
   "outputs": [],
   "source": [
    "# plot options\n",
    "BATCH_SIZE = [10, 15, 20, 25, 30, 35, 40, 45, 50, 100] #, 125, 150, 175, 200]\n",
    "PRUNE_FRAC_LIST = [0.0, 0.1]\n",
    "PRUNE_TYPE = ['none', 'random', 'influential', 'both']\n",
    "X_AXIS = [\"epoch\", \"steps\", \"epsilon\"]\n",
    "Y_AXIS = ['val_acc', 'acc', 'steps', 'epochs']\n",
    "LINE_WIDTH = 3\n",
    "\n",
    "\n",
    "# create a loss & accuracy subplot\n",
    "f, ax = plt.subplots(figsize=(12, 8), ncols=1)\n",
    "\n",
    "x_axis = 'epsilon'\n",
    "y_axis = 'val_acc'\n",
    "\n",
    "batch_size = 50\n",
    "\n",
    "for batch_size in BATCH_SIZE:\n",
    "\n",
    "    plot_maker(df, batch_size, [0.00], 'none', x_axis, y_axis, \"Batch Size {}\".format(batch_size), 2.5)\n",
    "\n",
    "ax.set_xlim(0.1, 1.)\n",
    "ax.legend(frameon=False, fontsize=12)\n",
    "\n",
    "\n",
    "plt.xlabel(\"Epsilon [\\u03B5]\", fontsize=12)\n",
    "plt.ylabel(\"Accuracy [%]\", fontsize=12)\n",
    "\n",
    "plt.savefig(\"plots/epsilon_performance_batch_size_scan.pdf\")"
   ]
  },
  {
   "cell_type": "markdown",
   "metadata": {},
   "source": [
    "# Final results:\n",
    "Epoch: 50\n",
    "BS: 50\n",
    "Prune: Influence"
   ]
  },
  {
   "cell_type": "code",
   "execution_count": null,
   "metadata": {},
   "outputs": [],
   "source": [
    "# load data\n",
    "df_random = pd.read_csv('results/dp_sgd_pruning_results_random_1.csv')\n",
    "df_infl = pd.read_csv('results/dp_sgd_pruning_results_infl_cp50_bs50_1.csv')\n",
    "#df_1 = pd.read_csv('results/dp_sgd_pruning_results_cpave_bs500_double_batch_size_scan.csv')\n",
    "#df_2 = pd.read_csv('results/dp_sgd_pruning_results_cpave_bs500_double_batch_size_scan_2.csv')\n",
    "#df_3 = pd.read_csv('results/dp_sgd_pruning_results_cpave_bs500_double_batch_size_scan_3.csv')\n",
    "df = pd.concat([df_random, df_infl])"
   ]
  },
  {
   "cell_type": "code",
   "execution_count": null,
   "metadata": {
    "scrolled": true
   },
   "outputs": [],
   "source": [
    "# example of averaging over experiments\n",
    "df.head(5)"
   ]
  },
  {
   "cell_type": "markdown",
   "metadata": {},
   "source": [
    "### Comparison of experiments"
   ]
  },
  {
   "cell_type": "code",
   "execution_count": null,
   "metadata": {},
   "outputs": [],
   "source": [
    "# plot options\n",
    "BATCH_SIZE = [10, 15, 20, 25, 30, 35, 40, 45, 50, 100] #, 125, 150, 175, 200]\n",
    "PRUNE_FRAC_LIST = [0.0, 0.1]\n",
    "PRUNE_TYPE = ['none', 'random', 'influential', 'both']\n",
    "X_AXIS = [\"epoch\", \"steps\", \"epsilon\"]\n",
    "Y_AXIS = ['val_acc', 'acc', 'steps', 'epochs']\n",
    "LINE_WIDTH = 3\n",
    "\n",
    "\n",
    "# create a loss & accuracy subplot\n",
    "f, ax = plt.subplots(figsize=(12, 8), ncols=1)\n",
    "\n",
    "x_axis = 'epsilon'\n",
    "y_axis = 'val_acc'\n",
    "\n",
    "batch_size = 40\n",
    "\n",
    "plot_maker_color(df, batch_size, [0.0], 'none', x_axis, y_axis, \"Batch Size {}\".format(batch_size), 'lightcoral', 3)\n",
    "plot_maker_experiments(df, batch_size, 0.0, 'none', 10, x_axis, y_axis, 'lightcoral', 1, 1, '--')\n",
    "\n",
    "plot_maker_color(df, batch_size, [0.01], 'influential', x_axis, y_axis, \"Batch Size {}\".format(batch_size), 'seagreen', 3)\n",
    "plot_maker_experiments(df, batch_size, 0.01, 'influential', 10, x_axis, y_axis, 'seagreen', 1, 1, '--')\n",
    "\n",
    "ax.set_xlim(0.1, 0.5)\n",
    "ax.legend(frameon=False, fontsize=12)\n",
    "\n",
    "plt.xlabel(\"Epsilon [\\u03B5]\", fontsize=12)\n",
    "plt.ylabel(\"Accuracy [%]\", fontsize=12)\n",
    "\n",
    "plt.savefig(\"plots/epsilon_performance_experiment_comparison.pdf\")"
   ]
  },
  {
   "cell_type": "markdown",
   "metadata": {},
   "source": [
    "### Random vs influential pruning"
   ]
  },
  {
   "cell_type": "code",
   "execution_count": null,
   "metadata": {},
   "outputs": [],
   "source": [
    "# plot options\n",
    "BATCH_SIZE = [25, 30, 35, 40]\n",
    "PRUNE_FRAC_LIST = [0, 0.01, 0.02, 0.03, 0.04, 0.05, 0.06, 0.07, 0.08, 0.09, 0.1, 0.2]\n",
    "PRUNE_TYPE = ['none', 'random', 'influential', 'both']\n",
    "X_AXIS = [\"epoch\", \"steps\", \"epsilon\"]\n",
    "Y_AXIS = ['val_acc', 'acc', 'steps', 'epochs']\n",
    "LINE_WIDTH = 3\n",
    "\n",
    "\n",
    "# create a loss & accuracy subplot\n",
    "f, ax = plt.subplots(figsize=(12, 8), ncols=1)\n",
    "\n",
    "x_axis = 'epsilon'\n",
    "y_axis = 'val_acc'\n",
    "\n",
    "batch_size = 40\n",
    "\n",
    "plot_maker_color(df, batch_size, [0.0], 'none', x_axis, y_axis, \"Batch Size {}\".format(batch_size), 'lightcoral', LINE_WIDTH)\n",
    "plot_maker_color(df, batch_size, [0.1], 'influential', x_axis, y_axis, \"BS {}\".format(batch_size), 'seagreen', LINE_WIDTH)\n",
    "plot_maker_color(df, batch_size, [0.2], 'influential', x_axis, y_axis, \"\".format(batch_size), 'darkgreen', LINE_WIDTH)\n",
    "\n",
    "plot_maker_color(df, batch_size, [0.1], 'random', x_axis, y_axis, \"BS {}\".format(batch_size), 'goldenrod', LINE_WIDTH)\n",
    "plot_maker_color(df, batch_size, [0.2], 'random', x_axis, y_axis, \"\".format(batch_size), 'darkorange', LINE_WIDTH)\n",
    "\n",
    "\n",
    "ax.set_xlim(0.1, 0.7)\n",
    "ax.set_ylabel(\"Accuracy [%]\", fontsize=12)\n",
    "ax.set_xlabel(\"Epsilon [\\u03B5]\", fontsize=12)\n",
    "ax.legend(frameon=False, fontsize=12)\n",
    "\n",
    "plt.savefig(\"plots/epsilon_performance_comparison_bs_40.pdf\")"
   ]
  },
  {
   "cell_type": "markdown",
   "metadata": {},
   "source": [
    "### Scanning over prune fractions"
   ]
  },
  {
   "cell_type": "code",
   "execution_count": null,
   "metadata": {},
   "outputs": [],
   "source": [
    "# plot options\n",
    "BATCH_SIZE = [25, 30, 35, 40]\n",
    "PRUNE_FRACS = [0.01, 0.02, 0.03, 0.04, 0.05, 0.06, 0.07, 0.08, 0.09, 0.1, 0.2]\n",
    "#PRUNE_FRACS = [0.1]\n",
    "PRUNE_TYPE = ['none', 'random', 'influential']\n",
    "X_AXIS = [\"epoch\", \"steps\", \"epsilon\"]\n",
    "Y_AXIS = ['val_acc', 'acc', 'steps', 'epochs']\n",
    "LINE_WIDTH = 3\n",
    "#----------------------------#\n",
    "x_axis = 'epsilon'\n",
    "y_axis = 'val_acc'\n",
    "batch_size = 40\n",
    "#----------------------------#\n",
    "\n",
    "# create a loss & accuracy subplot\n",
    "f, ax = plt.subplots(figsize=(12, 8), ncols=1)\n",
    "\n",
    "for prune_frac in PRUNE_FRACS:\n",
    "    plot_maker_averaged(df, batch_size, prune_frac, 'influential', x_axis, y_axis, 1, 1.5, '--', \"Batch Size: {} Prune Frac: {:.0f}%\".format(batch_size, prune_frac*100))\n",
    "\n",
    "    \n",
    "plot_maker_color(df, batch_size, [0.0], 'none', x_axis, y_axis, \"Batch Size: {} Prune Frac: 0%\".format(batch_size), 'lightcoral', 4)\n",
    "\n",
    "ax.set_xlim(0.1, 0.70)\n",
    "ax.set_ylabel(\"Accuracy [%]\", fontsize=12)\n",
    "ax.set_xlabel(\"Epsilon [\\u03B5]\", fontsize=12)\n",
    "ax.legend(frameon=False, fontsize=12)\n",
    "\n",
    "plt.savefig(\"plots/epsilon_performance_comparison_prune_frac_scan.pdf\")"
   ]
  }
 ],
 "metadata": {
  "kernelspec": {
   "display_name": "Python [conda env:Python3] *",
   "language": "python",
   "name": "conda-env-Python3-py"
  },
  "language_info": {
   "codemirror_mode": {
    "name": "ipython",
    "version": 3
   },
   "file_extension": ".py",
   "mimetype": "text/x-python",
   "name": "python",
   "nbconvert_exporter": "python",
   "pygments_lexer": "ipython3",
   "version": "3.8.3"
  }
 },
 "nbformat": 4,
 "nbformat_minor": 2
}
